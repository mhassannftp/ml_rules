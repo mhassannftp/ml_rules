{
 "cells": [
  {
   "cell_type": "markdown",
   "id": "8549d3d7",
   "metadata": {
    "papermill": {
     "duration": 0.011919,
     "end_time": "2022-01-15T07:27:50.424667",
     "exception": false,
     "start_time": "2022-01-15T07:27:50.412748",
     "status": "completed"
    },
    "tags": []
   },
   "source": [
    "# Importing the Libraries"
   ]
  },
  {
   "cell_type": "code",
   "execution_count": 1,
   "id": "ce272e8f",
   "metadata": {
    "execution": {
     "iopub.execute_input": "2022-01-15T07:27:50.456772Z",
     "iopub.status.busy": "2022-01-15T07:27:50.456012Z",
     "iopub.status.idle": "2022-01-15T07:27:51.462332Z",
     "shell.execute_reply": "2022-01-15T07:27:51.461575Z",
     "shell.execute_reply.started": "2022-01-15T06:57:19.521346Z"
    },
    "papermill": {
     "duration": 1.027183,
     "end_time": "2022-01-15T07:27:51.462530",
     "exception": false,
     "start_time": "2022-01-15T07:27:50.435347",
     "status": "completed"
    },
    "tags": []
   },
   "outputs": [],
   "source": [
    "import pandas as pd\n",
    "from mlxtend.frequent_patterns import apriori\n",
    "from mlxtend.frequent_patterns import association_rules\n",
    "from mlxtend.preprocessing import TransactionEncoder"
   ]
  },
  {
   "cell_type": "markdown",
   "id": "52ed49fa",
   "metadata": {
    "papermill": {
     "duration": 0.010167,
     "end_time": "2022-01-15T07:27:51.482894",
     "exception": false,
     "start_time": "2022-01-15T07:27:51.472727",
     "status": "completed"
    },
    "tags": []
   },
   "source": [
    "# Data set "
   ]
  },
  {
   "cell_type": "code",
   "execution_count": 2,
   "id": "5ec72e5b",
   "metadata": {
    "execution": {
     "iopub.execute_input": "2022-01-15T07:27:51.511396Z",
     "iopub.status.busy": "2022-01-15T07:27:51.510742Z",
     "iopub.status.idle": "2022-01-15T07:27:51.512234Z",
     "shell.execute_reply": "2022-01-15T07:27:51.512647Z",
     "shell.execute_reply.started": "2022-01-15T06:57:22.507890Z"
    },
    "papermill": {
     "duration": 0.019529,
     "end_time": "2022-01-15T07:27:51.512819",
     "exception": false,
     "start_time": "2022-01-15T07:27:51.493290",
     "status": "completed"
    },
    "tags": []
   },
   "outputs": [],
   "source": [
    "# df = pd.read_csv('/kaggle/input/supermarket/GroceryStoreDataSet.csv', names = ['Products'], sep = ',')\n",
    "dataset = [\n",
    "    [\"MILK\",\"BREAD\",\"BISCUIT\"],\n",
    "    [\"BREAD\",\"MILK\",\"BISCUIT\",\"CORNFLAKES\"],\n",
    "    [\"BREAD\",\"TEA\",\"BOURNVITA\"],\n",
    "    [\"JAM,MAGGI\",\"BREAD\",\"MILK\"],\n",
    "    [\"MAGGI\",\"TEA\",\"BISCUIT\"],\n",
    "    [\"BREAD\",\"TEA\",\"BOURNVITA\"],\n",
    "    [\"MAGGI\",\"TEA\",\"CORNFLAKES\"],\n",
    "    [\"MAGGI\",\"BREAD\",\"TEA,BISCUIT\"],\n",
    "    [\"JAM\",\"MAGGI\",\"BREAD\",\"TEA\"],\n",
    "    [\"BREAD\",\"MILK\"],\n",
    "    [\"COFFEE\",\"COCK\",\"BISCUIT\",\"CORNFLAKES\"],\n",
    "    [\"COFFEE\",\"COCK\",\"BISCUIT\",\"CORNFLAKES\"],\n",
    "    [\"COFFEE\",\"SUGER\",\"BOURNVITA\"],\n",
    "    [\"BREAD\",\"COFFEE\",\"COCK\"],\n",
    "    [\"BREAD\",\"SUGER\",\"BISCUIT\"],\n",
    "    [\"COFFEE\",\"SUGER\",\"CORNFLAKES\"],\n",
    "    [\"BREAD\",\"SUGER\",\"BOURNVITA\"],\n",
    "    [\"BREAD\",\"COFFEE\",\"SUGER\"],\n",
    "    [\"BREAD\",\"COFFEE\",\"SUGER\"],\n",
    "    [\"TEA\",\"MILK\",\"COFFEE\",\"CORNFLAKES\"]\n",
    "]"
   ]
  },
  {
   "cell_type": "markdown",
   "id": "a740f769",
   "metadata": {
    "papermill": {
     "duration": 0.009834,
     "end_time": "2022-01-15T07:27:51.532800",
     "exception": false,
     "start_time": "2022-01-15T07:27:51.522966",
     "status": "completed"
    },
    "tags": []
   },
   "source": [
    "# Display data set"
   ]
  },
  {
   "cell_type": "code",
   "execution_count": 3,
   "id": "b29b42c6",
   "metadata": {
    "execution": {
     "iopub.execute_input": "2022-01-15T07:27:51.556429Z",
     "iopub.status.busy": "2022-01-15T07:27:51.555840Z",
     "iopub.status.idle": "2022-01-15T07:27:51.562726Z",
     "shell.execute_reply": "2022-01-15T07:27:51.563150Z",
     "shell.execute_reply.started": "2022-01-15T06:07:48.313627Z"
    },
    "papermill": {
     "duration": 0.020383,
     "end_time": "2022-01-15T07:27:51.563312",
     "exception": false,
     "start_time": "2022-01-15T07:27:51.542929",
     "status": "completed"
    },
    "tags": []
   },
   "outputs": [
    {
     "data": {
      "text/plain": [
       "[['MILK', 'BREAD', 'BISCUIT'],\n",
       " ['BREAD', 'MILK', 'BISCUIT', 'CORNFLAKES'],\n",
       " ['BREAD', 'TEA', 'BOURNVITA'],\n",
       " ['JAM,MAGGI', 'BREAD', 'MILK'],\n",
       " ['MAGGI', 'TEA', 'BISCUIT'],\n",
       " ['BREAD', 'TEA', 'BOURNVITA'],\n",
       " ['MAGGI', 'TEA', 'CORNFLAKES'],\n",
       " ['MAGGI', 'BREAD', 'TEA,BISCUIT'],\n",
       " ['JAM', 'MAGGI', 'BREAD', 'TEA'],\n",
       " ['BREAD', 'MILK'],\n",
       " ['COFFEE', 'COCK', 'BISCUIT', 'CORNFLAKES'],\n",
       " ['COFFEE', 'COCK', 'BISCUIT', 'CORNFLAKES'],\n",
       " ['COFFEE', 'SUGER', 'BOURNVITA'],\n",
       " ['BREAD', 'COFFEE', 'COCK'],\n",
       " ['BREAD', 'SUGER', 'BISCUIT'],\n",
       " ['COFFEE', 'SUGER', 'CORNFLAKES'],\n",
       " ['BREAD', 'SUGER', 'BOURNVITA'],\n",
       " ['BREAD', 'COFFEE', 'SUGER'],\n",
       " ['BREAD', 'COFFEE', 'SUGER'],\n",
       " ['TEA', 'MILK', 'COFFEE', 'CORNFLAKES']]"
      ]
     },
     "execution_count": 3,
     "metadata": {},
     "output_type": "execute_result"
    }
   ],
   "source": [
    "dataset"
   ]
  },
  {
   "cell_type": "markdown",
   "id": "6ba8350d",
   "metadata": {
    "papermill": {
     "duration": 0.010083,
     "end_time": "2022-01-15T07:27:51.584021",
     "exception": false,
     "start_time": "2022-01-15T07:27:51.573938",
     "status": "completed"
    },
    "tags": []
   },
   "source": [
    "# TransactionEncoder\n",
    "By using TransactionEncoder to see the item available in set \"True\" mean item avaiable and \"False\" mean unavailable"
   ]
  },
  {
   "cell_type": "code",
   "execution_count": 4,
   "id": "3db518c2",
   "metadata": {
    "execution": {
     "iopub.execute_input": "2022-01-15T07:27:51.607569Z",
     "iopub.status.busy": "2022-01-15T07:27:51.606951Z",
     "iopub.status.idle": "2022-01-15T07:27:51.630439Z",
     "shell.execute_reply": "2022-01-15T07:27:51.631131Z",
     "shell.execute_reply.started": "2022-01-15T06:57:27.004354Z"
    },
    "papermill": {
     "duration": 0.037084,
     "end_time": "2022-01-15T07:27:51.631400",
     "exception": false,
     "start_time": "2022-01-15T07:27:51.594316",
     "status": "completed"
    },
    "tags": []
   },
   "outputs": [
    {
     "name": "stdout",
     "output_type": "stream",
     "text": [
      "    BISCUIT  BOURNVITA  BREAD   COCK  COFFEE  CORNFLAKES    JAM  JAM,MAGGI  \\\n",
      "0      True      False   True  False   False       False  False      False   \n",
      "1      True      False   True  False   False        True  False      False   \n",
      "2     False       True   True  False   False       False  False      False   \n",
      "3     False      False   True  False   False       False  False       True   \n",
      "4      True      False  False  False   False       False  False      False   \n",
      "5     False       True   True  False   False       False  False      False   \n",
      "6     False      False  False  False   False        True  False      False   \n",
      "7     False      False   True  False   False       False  False      False   \n",
      "8     False      False   True  False   False       False   True      False   \n",
      "9     False      False   True  False   False       False  False      False   \n",
      "10     True      False  False   True    True        True  False      False   \n",
      "11     True      False  False   True    True        True  False      False   \n",
      "12    False       True  False  False    True       False  False      False   \n",
      "13    False      False   True   True    True       False  False      False   \n",
      "14     True      False   True  False   False       False  False      False   \n",
      "15    False      False  False  False    True        True  False      False   \n",
      "16    False       True   True  False   False       False  False      False   \n",
      "17    False      False   True  False    True       False  False      False   \n",
      "18    False      False   True  False    True       False  False      False   \n",
      "19    False      False  False  False    True        True  False      False   \n",
      "\n",
      "    MAGGI   MILK  SUGER    TEA  TEA,BISCUIT  \n",
      "0   False   True  False  False        False  \n",
      "1   False   True  False  False        False  \n",
      "2   False  False  False   True        False  \n",
      "3   False   True  False  False        False  \n",
      "4    True  False  False   True        False  \n",
      "5   False  False  False   True        False  \n",
      "6    True  False  False   True        False  \n",
      "7    True  False  False  False         True  \n",
      "8    True  False  False   True        False  \n",
      "9   False   True  False  False        False  \n",
      "10  False  False  False  False        False  \n",
      "11  False  False  False  False        False  \n",
      "12  False  False   True  False        False  \n",
      "13  False  False  False  False        False  \n",
      "14  False  False   True  False        False  \n",
      "15  False  False   True  False        False  \n",
      "16  False  False   True  False        False  \n",
      "17  False  False   True  False        False  \n",
      "18  False  False   True  False        False  \n",
      "19  False   True  False   True        False  \n"
     ]
    }
   ],
   "source": [
    "tenconder = TransactionEncoder()\n",
    "tenconder_array = tenconder.fit(dataset).transform(dataset)\n",
    "Dframe = pd.DataFrame(tenconder_array, columns=tenconder.columns_)\n",
    "print(Dframe)"
   ]
  },
  {
   "cell_type": "markdown",
   "id": "2e0ffb25",
   "metadata": {
    "papermill": {
     "duration": 0.010546,
     "end_time": "2022-01-15T07:27:51.653983",
     "exception": false,
     "start_time": "2022-01-15T07:27:51.643437",
     "status": "completed"
    },
    "tags": []
   },
   "source": [
    "# Applying Algorithms \n",
    "## Apriori"
   ]
  },
  {
   "cell_type": "markdown",
   "id": "1b3c202e",
   "metadata": {
    "papermill": {
     "duration": 0.010657,
     "end_time": "2022-01-15T07:27:51.675889",
     "exception": false,
     "start_time": "2022-01-15T07:27:51.665232",
     "status": "completed"
    },
    "tags": []
   },
   "source": [
    "# Apply Apriori \n",
    "## Check the support itemset"
   ]
  },
  {
   "cell_type": "code",
   "execution_count": 5,
   "id": "d863df53",
   "metadata": {
    "execution": {
     "iopub.execute_input": "2022-01-15T07:27:51.700711Z",
     "iopub.status.busy": "2022-01-15T07:27:51.700088Z",
     "iopub.status.idle": "2022-01-15T07:27:51.719572Z",
     "shell.execute_reply": "2022-01-15T07:27:51.720108Z",
     "shell.execute_reply.started": "2022-01-15T06:57:33.451491Z"
    },
    "papermill": {
     "duration": 0.033556,
     "end_time": "2022-01-15T07:27:51.720272",
     "exception": false,
     "start_time": "2022-01-15T07:27:51.686716",
     "status": "completed"
    },
    "tags": []
   },
   "outputs": [
    {
     "name": "stdout",
     "output_type": "stream",
     "text": [
      "    support                             itemsets\n",
      "0      0.30                            (BISCUIT)\n",
      "1      0.20                          (BOURNVITA)\n",
      "2      0.65                              (BREAD)\n",
      "3      0.15                               (COCK)\n",
      "4      0.40                             (COFFEE)\n",
      "..      ...                                  ...\n",
      "77     0.05                    (MAGGI, TEA, JAM)\n",
      "78     0.05   (BREAD, BISCUIT, CORNFLAKES, MILK)\n",
      "79     0.10  (COFFEE, COCK, BISCUIT, CORNFLAKES)\n",
      "80     0.05             (BREAD, MAGGI, TEA, JAM)\n",
      "81     0.05      (COFFEE, TEA, CORNFLAKES, MILK)\n",
      "\n",
      "[82 rows x 2 columns]\n"
     ]
    }
   ],
   "source": [
    "frequent_items = apriori(Dframe, min_support=0.01,use_colnames=True)\n",
    "print(frequent_items)"
   ]
  },
  {
   "cell_type": "markdown",
   "id": "23e4bfa3",
   "metadata": {
    "papermill": {
     "duration": 0.010871,
     "end_time": "2022-01-15T07:27:51.742350",
     "exception": false,
     "start_time": "2022-01-15T07:27:51.731479",
     "status": "completed"
    },
    "tags": []
   },
   "source": [
    "# Frequent items set"
   ]
  },
  {
   "cell_type": "code",
   "execution_count": 6,
   "id": "190a3d69",
   "metadata": {
    "execution": {
     "iopub.execute_input": "2022-01-15T07:27:51.768146Z",
     "iopub.status.busy": "2022-01-15T07:27:51.767493Z",
     "iopub.status.idle": "2022-01-15T07:27:51.770811Z",
     "shell.execute_reply": "2022-01-15T07:27:51.771265Z",
     "shell.execute_reply.started": "2022-01-15T07:05:36.185991Z"
    },
    "papermill": {
     "duration": 0.017989,
     "end_time": "2022-01-15T07:27:51.771444",
     "exception": false,
     "start_time": "2022-01-15T07:27:51.753455",
     "status": "completed"
    },
    "tags": []
   },
   "outputs": [],
   "source": [
    "from mlxtend.frequent_patterns import fpgrowth"
   ]
  },
  {
   "cell_type": "code",
   "execution_count": 7,
   "id": "b3d2db67",
   "metadata": {
    "execution": {
     "iopub.execute_input": "2022-01-15T07:27:51.799306Z",
     "iopub.status.busy": "2022-01-15T07:27:51.798725Z",
     "iopub.status.idle": "2022-01-15T07:27:51.808184Z",
     "shell.execute_reply": "2022-01-15T07:27:51.808731Z",
     "shell.execute_reply.started": "2022-01-15T07:07:39.688841Z"
    },
    "papermill": {
     "duration": 0.026155,
     "end_time": "2022-01-15T07:27:51.808900",
     "exception": false,
     "start_time": "2022-01-15T07:27:51.782745",
     "status": "completed"
    },
    "tags": []
   },
   "outputs": [
    {
     "name": "stdout",
     "output_type": "stream",
     "text": [
      "    support                             itemsets\n",
      "0      0.65                              (BREAD)\n",
      "1      0.30                            (BISCUIT)\n",
      "2      0.25                               (MILK)\n",
      "3      0.30                         (CORNFLAKES)\n",
      "4      0.30                                (TEA)\n",
      "..      ...                                  ...\n",
      "77     0.10  (COFFEE, COCK, BISCUIT, CORNFLAKES)\n",
      "78     0.05                (BREAD, COCK, COFFEE)\n",
      "79     0.20                      (SUGER, COFFEE)\n",
      "80     0.20                       (BREAD, SUGER)\n",
      "81     0.10               (BREAD, SUGER, COFFEE)\n",
      "\n",
      "[82 rows x 2 columns]\n"
     ]
    }
   ],
   "source": [
    "frequent_items_fp = fpgrowth(Dframe, min_support =0.01, use_colnames=True)\n",
    "print(frequent_items_fp)"
   ]
  },
  {
   "cell_type": "markdown",
   "id": "55b16d71",
   "metadata": {
    "papermill": {
     "duration": 0.011071,
     "end_time": "2022-01-15T07:27:51.831582",
     "exception": false,
     "start_time": "2022-01-15T07:27:51.820511",
     "status": "completed"
    },
    "tags": []
   },
   "source": [
    "# Associatio Rule"
   ]
  },
  {
   "cell_type": "code",
   "execution_count": 8,
   "id": "c0a59a3c",
   "metadata": {
    "execution": {
     "iopub.execute_input": "2022-01-15T07:27:51.856975Z",
     "iopub.status.busy": "2022-01-15T07:27:51.856390Z",
     "iopub.status.idle": "2022-01-15T07:27:51.859265Z",
     "shell.execute_reply": "2022-01-15T07:27:51.859829Z",
     "shell.execute_reply.started": "2022-01-15T07:12:11.313548Z"
    },
    "papermill": {
     "duration": 0.017205,
     "end_time": "2022-01-15T07:27:51.859995",
     "exception": false,
     "start_time": "2022-01-15T07:27:51.842790",
     "status": "completed"
    },
    "tags": []
   },
   "outputs": [],
   "source": [
    "from mlxtend.frequent_patterns import association_rules"
   ]
  },
  {
   "cell_type": "code",
   "execution_count": 9,
   "id": "2441512f",
   "metadata": {
    "execution": {
     "iopub.execute_input": "2022-01-15T07:27:51.887853Z",
     "iopub.status.busy": "2022-01-15T07:27:51.887041Z",
     "iopub.status.idle": "2022-01-15T07:27:51.906333Z",
     "shell.execute_reply": "2022-01-15T07:27:51.906891Z",
     "shell.execute_reply.started": "2022-01-15T07:16:27.210398Z"
    },
    "papermill": {
     "duration": 0.034222,
     "end_time": "2022-01-15T07:27:51.907060",
     "exception": false,
     "start_time": "2022-01-15T07:27:51.872838",
     "status": "completed"
    },
    "tags": []
   },
   "outputs": [
    {
     "name": "stdout",
     "output_type": "stream",
     "text": [
      "                   antecedents           consequents  antecedent support  \\\n",
      "0                        (JAM)               (BREAD)                0.05   \n",
      "1                  (JAM,MAGGI)               (BREAD)                0.05   \n",
      "2                       (MILK)               (BREAD)                0.25   \n",
      "3                (TEA,BISCUIT)               (BREAD)                0.05   \n",
      "4                       (COCK)              (COFFEE)                0.15   \n",
      "..                         ...                   ...                 ...   \n",
      "68  (COFFEE, CORNFLAKES, MILK)                 (TEA)                0.05   \n",
      "69     (TEA, CORNFLAKES, MILK)              (COFFEE)                0.05   \n",
      "70               (TEA, COFFEE)    (CORNFLAKES, MILK)                0.05   \n",
      "71              (COFFEE, MILK)     (TEA, CORNFLAKES)                0.05   \n",
      "72                 (TEA, MILK)  (COFFEE, CORNFLAKES)                0.05   \n",
      "\n",
      "    consequent support  support  confidence       lift  leverage  conviction  \n",
      "0                 0.65     0.05         1.0   1.538462    0.0175         inf  \n",
      "1                 0.65     0.05         1.0   1.538462    0.0175         inf  \n",
      "2                 0.65     0.20         0.8   1.230769    0.0375        1.75  \n",
      "3                 0.65     0.05         1.0   1.538462    0.0175         inf  \n",
      "4                 0.40     0.15         1.0   2.500000    0.0900         inf  \n",
      "..                 ...      ...         ...        ...       ...         ...  \n",
      "68                0.30     0.05         1.0   3.333333    0.0350         inf  \n",
      "69                0.40     0.05         1.0   2.500000    0.0300         inf  \n",
      "70                0.10     0.05         1.0  10.000000    0.0450         inf  \n",
      "71                0.10     0.05         1.0  10.000000    0.0450         inf  \n",
      "72                0.20     0.05         1.0   5.000000    0.0400         inf  \n",
      "\n",
      "[73 rows x 9 columns]\n"
     ]
    }
   ],
   "source": [
    "rules_ap = association_rules(frequent_items, metric='confidence', min_threshold=0.8)\n",
    "print(rules_ap)"
   ]
  },
  {
   "cell_type": "code",
   "execution_count": 10,
   "id": "baef6eff",
   "metadata": {
    "execution": {
     "iopub.execute_input": "2022-01-15T07:27:51.934043Z",
     "iopub.status.busy": "2022-01-15T07:27:51.933420Z",
     "iopub.status.idle": "2022-01-15T07:27:51.951306Z",
     "shell.execute_reply": "2022-01-15T07:27:51.951826Z",
     "shell.execute_reply.started": "2022-01-15T07:18:13.690187Z"
    },
    "papermill": {
     "duration": 0.032857,
     "end_time": "2022-01-15T07:27:51.952037",
     "exception": false,
     "start_time": "2022-01-15T07:27:51.919180",
     "status": "completed"
    },
    "tags": []
   },
   "outputs": [
    {
     "name": "stdout",
     "output_type": "stream",
     "text": [
      "                    antecedents           consequents  antecedent support  \\\n",
      "0           (BREAD, CORNFLAKES)             (BISCUIT)                0.05   \n",
      "1             (BISCUIT, COFFEE)          (CORNFLAKES)                0.10   \n",
      "2              (SUGER, BISCUIT)               (BREAD)                0.05   \n",
      "3                        (MILK)               (BREAD)                0.25   \n",
      "4               (BISCUIT, MILK)               (BREAD)                0.10   \n",
      "..                          ...                   ...                 ...   \n",
      "68  (COCK, BISCUIT, CORNFLAKES)              (COFFEE)                0.10   \n",
      "69            (BISCUIT, COFFEE)    (COCK, CORNFLAKES)                0.10   \n",
      "70              (COCK, BISCUIT)  (COFFEE, CORNFLAKES)                0.10   \n",
      "71           (COCK, CORNFLAKES)     (BISCUIT, COFFEE)                0.10   \n",
      "72                (BREAD, COCK)              (COFFEE)                0.05   \n",
      "\n",
      "    consequent support  support  confidence       lift  leverage  conviction  \n",
      "0                 0.30     0.05         1.0   3.333333    0.0350         inf  \n",
      "1                 0.30     0.10         1.0   3.333333    0.0700         inf  \n",
      "2                 0.65     0.05         1.0   1.538462    0.0175         inf  \n",
      "3                 0.65     0.20         0.8   1.230769    0.0375        1.75  \n",
      "4                 0.65     0.10         1.0   1.538462    0.0350         inf  \n",
      "..                 ...      ...         ...        ...       ...         ...  \n",
      "68                0.40     0.10         1.0   2.500000    0.0600         inf  \n",
      "69                0.10     0.10         1.0  10.000000    0.0900         inf  \n",
      "70                0.20     0.10         1.0   5.000000    0.0800         inf  \n",
      "71                0.10     0.10         1.0  10.000000    0.0900         inf  \n",
      "72                0.40     0.05         1.0   2.500000    0.0300         inf  \n",
      "\n",
      "[73 rows x 9 columns]\n"
     ]
    }
   ],
   "source": [
    "rules_fq = association_rules(frequent_items_fp, metric='confidence', min_threshold=0.8)\n",
    "print(rules_fq)"
   ]
  },
  {
   "cell_type": "code",
   "execution_count": null,
   "id": "87db4d9f",
   "metadata": {
    "papermill": {
     "duration": 0.011861,
     "end_time": "2022-01-15T07:27:51.976740",
     "exception": false,
     "start_time": "2022-01-15T07:27:51.964879",
     "status": "completed"
    },
    "tags": []
   },
   "outputs": [],
   "source": []
  }
 ],
 "metadata": {
  "kernelspec": {
   "display_name": "Python 3",
   "language": "python",
   "name": "python3"
  },
  "language_info": {
   "codemirror_mode": {
    "name": "ipython",
    "version": 3
   },
   "file_extension": ".py",
   "mimetype": "text/x-python",
   "name": "python",
   "nbconvert_exporter": "python",
   "pygments_lexer": "ipython3",
   "version": "3.7.12"
  },
  "papermill": {
   "default_parameters": {},
   "duration": 11.011596,
   "end_time": "2022-01-15T07:27:52.699134",
   "environment_variables": {},
   "exception": null,
   "input_path": "__notebook__.ipynb",
   "output_path": "__notebook__.ipynb",
   "parameters": {},
   "start_time": "2022-01-15T07:27:41.687538",
   "version": "2.3.3"
  }
 },
 "nbformat": 4,
 "nbformat_minor": 5
}
